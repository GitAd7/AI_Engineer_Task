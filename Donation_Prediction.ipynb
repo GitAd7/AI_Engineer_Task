{
  "nbformat": 4,
  "nbformat_minor": 0,
  "metadata": {
    "colab": {
      "provenance": [],
      "mount_file_id": "13vMPMWyKl0WZHfFFXgSJgV4B_MFMjhvH",
      "authorship_tag": "ABX9TyP7q1NiCtzDJfUaMA3kdbKG",
      "include_colab_link": true
    },
    "kernelspec": {
      "name": "python3",
      "display_name": "Python 3"
    },
    "language_info": {
      "name": "python"
    }
  },
  "cells": [
    {
      "cell_type": "markdown",
      "metadata": {
        "id": "view-in-github",
        "colab_type": "text"
      },
      "source": [
        "<a href=\"https://colab.research.google.com/github/GitAd7/AI_Engineer_Task/blob/main/Donation_Prediction.ipynb\" target=\"_parent\"><img src=\"https://colab.research.google.com/assets/colab-badge.svg\" alt=\"Open In Colab\"/></a>"
      ]
    },
    {
      "cell_type": "markdown",
      "source": [
        "- Connecting the Notebook to Drive"
      ],
      "metadata": {
        "id": "XgVr-9u35uL4"
      }
    },
    {
      "cell_type": "code",
      "source": [
        "from google.colab import drive\n",
        "drive.mount('/content/drive')"
      ],
      "metadata": {
        "colab": {
          "base_uri": "https://localhost:8080/"
        },
        "id": "C9cernUE5MTI",
        "outputId": "54b694ed-1a95-44c0-fb28-f5f61fe511f7"
      },
      "execution_count": 1,
      "outputs": [
        {
          "output_type": "stream",
          "name": "stdout",
          "text": [
            "Mounted at /content/drive\n"
          ]
        }
      ]
    },
    {
      "cell_type": "markdown",
      "source": [
        "- Accessing the required packages"
      ],
      "metadata": {
        "id": "yrOOJF535yMm"
      }
    },
    {
      "cell_type": "code",
      "execution_count": 1,
      "metadata": {
        "id": "igV9vtHKbdpz"
      },
      "outputs": [],
      "source": [
        "import pandas as pd\n",
        "import numpy as np\n",
        "import matplotlib.pyplot as plt\n",
        "import seaborn as sns\n",
        "from scipy import stats\n",
        "from sklearn.model_selection import train_test_split\n",
        "from sklearn.preprocessing import StandardScaler, OneHotEncoder\n",
        "from sklearn.impute import SimpleImputer\n",
        "from sklearn.compose import ColumnTransformer\n",
        "from sklearn.pipeline import Pipeline\n",
        "from sklearn.ensemble import RandomForestRegressor\n",
        "from sklearn.metrics import mean_squared_error, r2_score"
      ]
    },
    {
      "cell_type": "markdown",
      "source": [
        "- Reading the excel dataset using pandas read_csv function"
      ],
      "metadata": {
        "id": "3RYEUKxJ52Ty"
      }
    },
    {
      "cell_type": "code",
      "source": [
        "donation = pd.read_excel('/content/drive/MyDrive/Donation-Prediction/RCCFile.xlsx')"
      ],
      "metadata": {
        "id": "97aD63gi5Mtp"
      },
      "execution_count": 26,
      "outputs": []
    },
    {
      "cell_type": "code",
      "source": [
        "# Showing the first 5 rows\n",
        "donation.head()"
      ],
      "metadata": {
        "colab": {
          "base_uri": "https://localhost:8080/",
          "height": 307
        },
        "id": "pA92iH4I5gkV",
        "outputId": "bb203de1-ffd8-48a4-afca-b5a6a9ac2a55"
      },
      "execution_count": 27,
      "outputs": [
        {
          "output_type": "execute_result",
          "data": {
            "text/plain": [
              "   customer_ID First Giving Date Last Giving Date Largest Giving Date  \\\n",
              "0    200001488               NaT              NaT                 NaT   \n",
              "1    200001489               NaT              NaT                 NaT   \n",
              "2    200001490               NaT              NaT                 NaT   \n",
              "3    200001491               NaT              NaT                 NaT   \n",
              "4    200001492               NaT              NaT                 NaT   \n",
              "\n",
              "  date_added Date_Changed Key Indicator Deceased Title_1 Marital_status  ...  \\\n",
              "0 2019-10-14   2021-10-11             I       No     NaN            NaN  ...   \n",
              "1 2019-10-14   2021-10-11             I       No     NaN            NaN  ...   \n",
              "2 2019-10-14   2021-10-12             I       No     NaN            NaN  ...   \n",
              "3 2019-10-14   2021-10-12             I       No     NaN            NaN  ...   \n",
              "4 2019-10-14   2021-10-11             I       No     NaN            NaN  ...   \n",
              "\n",
              "  CR_1_01_Degree CR_1_02_Degree  Al Board Member Married to an Alum  \\\n",
              "0            NaN            NaN              NaN                NaN   \n",
              "1            NaN            NaN              NaN                NaN   \n",
              "2            NaN            NaN              NaN                NaN   \n",
              "3            NaN            NaN              NaN                NaN   \n",
              "4            NaN            NaN              NaN                NaN   \n",
              "\n",
              "  Personal Email End Overall Giving Last 10 Years Giving  \\\n",
              "0                NaN            0.0                  0.0   \n",
              "1                NaN            0.0                  0.0   \n",
              "2               .com            0.0                  0.0   \n",
              "3               .com            0.0                  0.0   \n",
              "4                NaN            0.0                  0.0   \n",
              "\n",
              "  Last 5 Years Giving_17-21       CSS_ID Alumni  \n",
              "0                       0.0          NaN      0  \n",
              "1                       0.0          NaN      0  \n",
              "2                       0.0  200000613.0      0  \n",
              "3                       0.0          NaN      0  \n",
              "4                       0.0          NaN      0  \n",
              "\n",
              "[5 rows x 31 columns]"
            ],
            "text/html": [
              "\n",
              "  <div id=\"df-0645b801-1d4e-45c8-a0f7-951ed7c76ebf\" class=\"colab-df-container\">\n",
              "    <div>\n",
              "<style scoped>\n",
              "    .dataframe tbody tr th:only-of-type {\n",
              "        vertical-align: middle;\n",
              "    }\n",
              "\n",
              "    .dataframe tbody tr th {\n",
              "        vertical-align: top;\n",
              "    }\n",
              "\n",
              "    .dataframe thead th {\n",
              "        text-align: right;\n",
              "    }\n",
              "</style>\n",
              "<table border=\"1\" class=\"dataframe\">\n",
              "  <thead>\n",
              "    <tr style=\"text-align: right;\">\n",
              "      <th></th>\n",
              "      <th>customer_ID</th>\n",
              "      <th>First Giving Date</th>\n",
              "      <th>Last Giving Date</th>\n",
              "      <th>Largest Giving Date</th>\n",
              "      <th>date_added</th>\n",
              "      <th>Date_Changed</th>\n",
              "      <th>Key Indicator</th>\n",
              "      <th>Deceased</th>\n",
              "      <th>Title_1</th>\n",
              "      <th>Marital_status</th>\n",
              "      <th>...</th>\n",
              "      <th>CR_1_01_Degree</th>\n",
              "      <th>CR_1_02_Degree</th>\n",
              "      <th>Al Board Member</th>\n",
              "      <th>Married to an Alum</th>\n",
              "      <th>Personal Email End</th>\n",
              "      <th>Overall Giving</th>\n",
              "      <th>Last 10 Years Giving</th>\n",
              "      <th>Last 5 Years Giving_17-21</th>\n",
              "      <th>CSS_ID</th>\n",
              "      <th>Alumni</th>\n",
              "    </tr>\n",
              "  </thead>\n",
              "  <tbody>\n",
              "    <tr>\n",
              "      <th>0</th>\n",
              "      <td>200001488</td>\n",
              "      <td>NaT</td>\n",
              "      <td>NaT</td>\n",
              "      <td>NaT</td>\n",
              "      <td>2019-10-14</td>\n",
              "      <td>2021-10-11</td>\n",
              "      <td>I</td>\n",
              "      <td>No</td>\n",
              "      <td>NaN</td>\n",
              "      <td>NaN</td>\n",
              "      <td>...</td>\n",
              "      <td>NaN</td>\n",
              "      <td>NaN</td>\n",
              "      <td>NaN</td>\n",
              "      <td>NaN</td>\n",
              "      <td>NaN</td>\n",
              "      <td>0.0</td>\n",
              "      <td>0.0</td>\n",
              "      <td>0.0</td>\n",
              "      <td>NaN</td>\n",
              "      <td>0</td>\n",
              "    </tr>\n",
              "    <tr>\n",
              "      <th>1</th>\n",
              "      <td>200001489</td>\n",
              "      <td>NaT</td>\n",
              "      <td>NaT</td>\n",
              "      <td>NaT</td>\n",
              "      <td>2019-10-14</td>\n",
              "      <td>2021-10-11</td>\n",
              "      <td>I</td>\n",
              "      <td>No</td>\n",
              "      <td>NaN</td>\n",
              "      <td>NaN</td>\n",
              "      <td>...</td>\n",
              "      <td>NaN</td>\n",
              "      <td>NaN</td>\n",
              "      <td>NaN</td>\n",
              "      <td>NaN</td>\n",
              "      <td>NaN</td>\n",
              "      <td>0.0</td>\n",
              "      <td>0.0</td>\n",
              "      <td>0.0</td>\n",
              "      <td>NaN</td>\n",
              "      <td>0</td>\n",
              "    </tr>\n",
              "    <tr>\n",
              "      <th>2</th>\n",
              "      <td>200001490</td>\n",
              "      <td>NaT</td>\n",
              "      <td>NaT</td>\n",
              "      <td>NaT</td>\n",
              "      <td>2019-10-14</td>\n",
              "      <td>2021-10-12</td>\n",
              "      <td>I</td>\n",
              "      <td>No</td>\n",
              "      <td>NaN</td>\n",
              "      <td>NaN</td>\n",
              "      <td>...</td>\n",
              "      <td>NaN</td>\n",
              "      <td>NaN</td>\n",
              "      <td>NaN</td>\n",
              "      <td>NaN</td>\n",
              "      <td>.com</td>\n",
              "      <td>0.0</td>\n",
              "      <td>0.0</td>\n",
              "      <td>0.0</td>\n",
              "      <td>200000613.0</td>\n",
              "      <td>0</td>\n",
              "    </tr>\n",
              "    <tr>\n",
              "      <th>3</th>\n",
              "      <td>200001491</td>\n",
              "      <td>NaT</td>\n",
              "      <td>NaT</td>\n",
              "      <td>NaT</td>\n",
              "      <td>2019-10-14</td>\n",
              "      <td>2021-10-12</td>\n",
              "      <td>I</td>\n",
              "      <td>No</td>\n",
              "      <td>NaN</td>\n",
              "      <td>NaN</td>\n",
              "      <td>...</td>\n",
              "      <td>NaN</td>\n",
              "      <td>NaN</td>\n",
              "      <td>NaN</td>\n",
              "      <td>NaN</td>\n",
              "      <td>.com</td>\n",
              "      <td>0.0</td>\n",
              "      <td>0.0</td>\n",
              "      <td>0.0</td>\n",
              "      <td>NaN</td>\n",
              "      <td>0</td>\n",
              "    </tr>\n",
              "    <tr>\n",
              "      <th>4</th>\n",
              "      <td>200001492</td>\n",
              "      <td>NaT</td>\n",
              "      <td>NaT</td>\n",
              "      <td>NaT</td>\n",
              "      <td>2019-10-14</td>\n",
              "      <td>2021-10-11</td>\n",
              "      <td>I</td>\n",
              "      <td>No</td>\n",
              "      <td>NaN</td>\n",
              "      <td>NaN</td>\n",
              "      <td>...</td>\n",
              "      <td>NaN</td>\n",
              "      <td>NaN</td>\n",
              "      <td>NaN</td>\n",
              "      <td>NaN</td>\n",
              "      <td>NaN</td>\n",
              "      <td>0.0</td>\n",
              "      <td>0.0</td>\n",
              "      <td>0.0</td>\n",
              "      <td>NaN</td>\n",
              "      <td>0</td>\n",
              "    </tr>\n",
              "  </tbody>\n",
              "</table>\n",
              "<p>5 rows × 31 columns</p>\n",
              "</div>\n",
              "    <div class=\"colab-df-buttons\">\n",
              "\n",
              "  <div class=\"colab-df-container\">\n",
              "    <button class=\"colab-df-convert\" onclick=\"convertToInteractive('df-0645b801-1d4e-45c8-a0f7-951ed7c76ebf')\"\n",
              "            title=\"Convert this dataframe to an interactive table.\"\n",
              "            style=\"display:none;\">\n",
              "\n",
              "  <svg xmlns=\"http://www.w3.org/2000/svg\" height=\"24px\" viewBox=\"0 -960 960 960\">\n",
              "    <path d=\"M120-120v-720h720v720H120Zm60-500h600v-160H180v160Zm220 220h160v-160H400v160Zm0 220h160v-160H400v160ZM180-400h160v-160H180v160Zm440 0h160v-160H620v160ZM180-180h160v-160H180v160Zm440 0h160v-160H620v160Z\"/>\n",
              "  </svg>\n",
              "    </button>\n",
              "\n",
              "  <style>\n",
              "    .colab-df-container {\n",
              "      display:flex;\n",
              "      gap: 12px;\n",
              "    }\n",
              "\n",
              "    .colab-df-convert {\n",
              "      background-color: #E8F0FE;\n",
              "      border: none;\n",
              "      border-radius: 50%;\n",
              "      cursor: pointer;\n",
              "      display: none;\n",
              "      fill: #1967D2;\n",
              "      height: 32px;\n",
              "      padding: 0 0 0 0;\n",
              "      width: 32px;\n",
              "    }\n",
              "\n",
              "    .colab-df-convert:hover {\n",
              "      background-color: #E2EBFA;\n",
              "      box-shadow: 0px 1px 2px rgba(60, 64, 67, 0.3), 0px 1px 3px 1px rgba(60, 64, 67, 0.15);\n",
              "      fill: #174EA6;\n",
              "    }\n",
              "\n",
              "    .colab-df-buttons div {\n",
              "      margin-bottom: 4px;\n",
              "    }\n",
              "\n",
              "    [theme=dark] .colab-df-convert {\n",
              "      background-color: #3B4455;\n",
              "      fill: #D2E3FC;\n",
              "    }\n",
              "\n",
              "    [theme=dark] .colab-df-convert:hover {\n",
              "      background-color: #434B5C;\n",
              "      box-shadow: 0px 1px 3px 1px rgba(0, 0, 0, 0.15);\n",
              "      filter: drop-shadow(0px 1px 2px rgba(0, 0, 0, 0.3));\n",
              "      fill: #FFFFFF;\n",
              "    }\n",
              "  </style>\n",
              "\n",
              "    <script>\n",
              "      const buttonEl =\n",
              "        document.querySelector('#df-0645b801-1d4e-45c8-a0f7-951ed7c76ebf button.colab-df-convert');\n",
              "      buttonEl.style.display =\n",
              "        google.colab.kernel.accessAllowed ? 'block' : 'none';\n",
              "\n",
              "      async function convertToInteractive(key) {\n",
              "        const element = document.querySelector('#df-0645b801-1d4e-45c8-a0f7-951ed7c76ebf');\n",
              "        const dataTable =\n",
              "          await google.colab.kernel.invokeFunction('convertToInteractive',\n",
              "                                                    [key], {});\n",
              "        if (!dataTable) return;\n",
              "\n",
              "        const docLinkHtml = 'Like what you see? Visit the ' +\n",
              "          '<a target=\"_blank\" href=https://colab.research.google.com/notebooks/data_table.ipynb>data table notebook</a>'\n",
              "          + ' to learn more about interactive tables.';\n",
              "        element.innerHTML = '';\n",
              "        dataTable['output_type'] = 'display_data';\n",
              "        await google.colab.output.renderOutput(dataTable, element);\n",
              "        const docLink = document.createElement('div');\n",
              "        docLink.innerHTML = docLinkHtml;\n",
              "        element.appendChild(docLink);\n",
              "      }\n",
              "    </script>\n",
              "  </div>\n",
              "\n",
              "\n",
              "<div id=\"df-25689e1a-20b4-4e38-8303-bec65cc70987\">\n",
              "  <button class=\"colab-df-quickchart\" onclick=\"quickchart('df-25689e1a-20b4-4e38-8303-bec65cc70987')\"\n",
              "            title=\"Suggest charts\"\n",
              "            style=\"display:none;\">\n",
              "\n",
              "<svg xmlns=\"http://www.w3.org/2000/svg\" height=\"24px\"viewBox=\"0 0 24 24\"\n",
              "     width=\"24px\">\n",
              "    <g>\n",
              "        <path d=\"M19 3H5c-1.1 0-2 .9-2 2v14c0 1.1.9 2 2 2h14c1.1 0 2-.9 2-2V5c0-1.1-.9-2-2-2zM9 17H7v-7h2v7zm4 0h-2V7h2v10zm4 0h-2v-4h2v4z\"/>\n",
              "    </g>\n",
              "</svg>\n",
              "  </button>\n",
              "\n",
              "<style>\n",
              "  .colab-df-quickchart {\n",
              "      --bg-color: #E8F0FE;\n",
              "      --fill-color: #1967D2;\n",
              "      --hover-bg-color: #E2EBFA;\n",
              "      --hover-fill-color: #174EA6;\n",
              "      --disabled-fill-color: #AAA;\n",
              "      --disabled-bg-color: #DDD;\n",
              "  }\n",
              "\n",
              "  [theme=dark] .colab-df-quickchart {\n",
              "      --bg-color: #3B4455;\n",
              "      --fill-color: #D2E3FC;\n",
              "      --hover-bg-color: #434B5C;\n",
              "      --hover-fill-color: #FFFFFF;\n",
              "      --disabled-bg-color: #3B4455;\n",
              "      --disabled-fill-color: #666;\n",
              "  }\n",
              "\n",
              "  .colab-df-quickchart {\n",
              "    background-color: var(--bg-color);\n",
              "    border: none;\n",
              "    border-radius: 50%;\n",
              "    cursor: pointer;\n",
              "    display: none;\n",
              "    fill: var(--fill-color);\n",
              "    height: 32px;\n",
              "    padding: 0;\n",
              "    width: 32px;\n",
              "  }\n",
              "\n",
              "  .colab-df-quickchart:hover {\n",
              "    background-color: var(--hover-bg-color);\n",
              "    box-shadow: 0 1px 2px rgba(60, 64, 67, 0.3), 0 1px 3px 1px rgba(60, 64, 67, 0.15);\n",
              "    fill: var(--button-hover-fill-color);\n",
              "  }\n",
              "\n",
              "  .colab-df-quickchart-complete:disabled,\n",
              "  .colab-df-quickchart-complete:disabled:hover {\n",
              "    background-color: var(--disabled-bg-color);\n",
              "    fill: var(--disabled-fill-color);\n",
              "    box-shadow: none;\n",
              "  }\n",
              "\n",
              "  .colab-df-spinner {\n",
              "    border: 2px solid var(--fill-color);\n",
              "    border-color: transparent;\n",
              "    border-bottom-color: var(--fill-color);\n",
              "    animation:\n",
              "      spin 1s steps(1) infinite;\n",
              "  }\n",
              "\n",
              "  @keyframes spin {\n",
              "    0% {\n",
              "      border-color: transparent;\n",
              "      border-bottom-color: var(--fill-color);\n",
              "      border-left-color: var(--fill-color);\n",
              "    }\n",
              "    20% {\n",
              "      border-color: transparent;\n",
              "      border-left-color: var(--fill-color);\n",
              "      border-top-color: var(--fill-color);\n",
              "    }\n",
              "    30% {\n",
              "      border-color: transparent;\n",
              "      border-left-color: var(--fill-color);\n",
              "      border-top-color: var(--fill-color);\n",
              "      border-right-color: var(--fill-color);\n",
              "    }\n",
              "    40% {\n",
              "      border-color: transparent;\n",
              "      border-right-color: var(--fill-color);\n",
              "      border-top-color: var(--fill-color);\n",
              "    }\n",
              "    60% {\n",
              "      border-color: transparent;\n",
              "      border-right-color: var(--fill-color);\n",
              "    }\n",
              "    80% {\n",
              "      border-color: transparent;\n",
              "      border-right-color: var(--fill-color);\n",
              "      border-bottom-color: var(--fill-color);\n",
              "    }\n",
              "    90% {\n",
              "      border-color: transparent;\n",
              "      border-bottom-color: var(--fill-color);\n",
              "    }\n",
              "  }\n",
              "</style>\n",
              "\n",
              "  <script>\n",
              "    async function quickchart(key) {\n",
              "      const quickchartButtonEl =\n",
              "        document.querySelector('#' + key + ' button');\n",
              "      quickchartButtonEl.disabled = true;  // To prevent multiple clicks.\n",
              "      quickchartButtonEl.classList.add('colab-df-spinner');\n",
              "      try {\n",
              "        const charts = await google.colab.kernel.invokeFunction(\n",
              "            'suggestCharts', [key], {});\n",
              "      } catch (error) {\n",
              "        console.error('Error during call to suggestCharts:', error);\n",
              "      }\n",
              "      quickchartButtonEl.classList.remove('colab-df-spinner');\n",
              "      quickchartButtonEl.classList.add('colab-df-quickchart-complete');\n",
              "    }\n",
              "    (() => {\n",
              "      let quickchartButtonEl =\n",
              "        document.querySelector('#df-25689e1a-20b4-4e38-8303-bec65cc70987 button');\n",
              "      quickchartButtonEl.style.display =\n",
              "        google.colab.kernel.accessAllowed ? 'block' : 'none';\n",
              "    })();\n",
              "  </script>\n",
              "</div>\n",
              "\n",
              "    </div>\n",
              "  </div>\n"
            ],
            "application/vnd.google.colaboratory.intrinsic+json": {
              "type": "dataframe",
              "variable_name": "donation"
            }
          },
          "metadata": {},
          "execution_count": 27
        }
      ]
    },
    {
      "cell_type": "code",
      "source": [
        "donation.shape"
      ],
      "metadata": {
        "colab": {
          "base_uri": "https://localhost:8080/"
        },
        "id": "m1sgh3245iTA",
        "outputId": "4899365e-78c3-4864-9a11-4a5d5c953d53"
      },
      "execution_count": 28,
      "outputs": [
        {
          "output_type": "execute_result",
          "data": {
            "text/plain": [
              "(42287, 31)"
            ]
          },
          "metadata": {},
          "execution_count": 28
        }
      ]
    },
    {
      "cell_type": "code",
      "source": [
        "donation.info()"
      ],
      "metadata": {
        "colab": {
          "base_uri": "https://localhost:8080/"
        },
        "id": "vyk4FMSm5kkD",
        "outputId": "1c18f051-3335-4d98-ae2b-c406250f9a43"
      },
      "execution_count": 29,
      "outputs": [
        {
          "output_type": "stream",
          "name": "stdout",
          "text": [
            "<class 'pandas.core.frame.DataFrame'>\n",
            "RangeIndex: 42287 entries, 0 to 42286\n",
            "Data columns (total 31 columns):\n",
            " #   Column                     Non-Null Count  Dtype         \n",
            "---  ------                     --------------  -----         \n",
            " 0   customer_ID                42287 non-null  int64         \n",
            " 1   First Giving Date          15214 non-null  datetime64[ns]\n",
            " 2   Last Giving Date           15214 non-null  datetime64[ns]\n",
            " 3   Largest Giving Date        15214 non-null  datetime64[ns]\n",
            " 4   date_added                 42287 non-null  datetime64[ns]\n",
            " 5   Date_Changed               42287 non-null  datetime64[ns]\n",
            " 6   Key Indicator              42287 non-null  object        \n",
            " 7   Deceased                   42287 non-null  object        \n",
            " 8   Title_1                    13260 non-null  object        \n",
            " 9   Marital_status             17302 non-null  object        \n",
            " 10  City                       41020 non-null  object        \n",
            " 11  State                      40913 non-null  object        \n",
            " 12  events attended            42287 non-null  int64         \n",
            " 13  Zip                        40915 non-null  object        \n",
            " 14  Prf_Type                   42287 non-null  object        \n",
            " 15  CC_1_01_CodeLong           37405 non-null  object        \n",
            " 16  CC_1_02_CodeLong           4662 non-null   object        \n",
            " 17  CC_1_03_CodeLong           199 non-null    object        \n",
            " 18  CC_1_04_CodeLong           7 non-null      object        \n",
            " 19  CS_RecordImportID          125 non-null    object        \n",
            " 20  CR_1_01_Class_of           17198 non-null  float64       \n",
            " 21  CR_1_01_Degree             19668 non-null  object        \n",
            " 22  CR_1_02_Degree             1914 non-null   object        \n",
            " 23  Al Board Member            28 non-null     object        \n",
            " 24  Married to an Alum         574 non-null    object        \n",
            " 25  Personal Email End         24181 non-null  object        \n",
            " 26  Overall Giving             42287 non-null  float64       \n",
            " 27  Last 10 Years Giving       42287 non-null  float64       \n",
            " 28  Last 5 Years Giving_17-21  42287 non-null  float64       \n",
            " 29  CSS_ID                     2402 non-null   float64       \n",
            " 30  Alumni                     42287 non-null  int64         \n",
            "dtypes: datetime64[ns](5), float64(5), int64(3), object(18)\n",
            "memory usage: 10.0+ MB\n"
          ]
        }
      ]
    },
    {
      "cell_type": "code",
      "source": [
        "print(\"\\nMissing values:\\n\", donation.isnull().sum())"
      ],
      "metadata": {
        "colab": {
          "base_uri": "https://localhost:8080/"
        },
        "id": "bRNPR7r15llz",
        "outputId": "4d2fb294-21a1-4db2-ce2f-01e91f12194f"
      },
      "execution_count": 30,
      "outputs": [
        {
          "output_type": "stream",
          "name": "stdout",
          "text": [
            "\n",
            "Missing values:\n",
            " customer_ID                      0\n",
            "First Giving Date            27073\n",
            "Last Giving Date             27073\n",
            "Largest Giving Date          27073\n",
            "date_added                       0\n",
            "Date_Changed                     0\n",
            "Key Indicator                    0\n",
            "Deceased                         0\n",
            "Title_1                      29027\n",
            "Marital_status               24985\n",
            "City                          1267\n",
            "State                         1374\n",
            "events attended                  0\n",
            "Zip                           1372\n",
            "Prf_Type                         0\n",
            "CC_1_01_CodeLong              4882\n",
            "CC_1_02_CodeLong             37625\n",
            "CC_1_03_CodeLong             42088\n",
            "CC_1_04_CodeLong             42280\n",
            "CS_RecordImportID            42162\n",
            "CR_1_01_Class_of             25089\n",
            "CR_1_01_Degree               22619\n",
            "CR_1_02_Degree               40373\n",
            "Al Board Member              42259\n",
            "Married to an Alum           41713\n",
            "Personal Email End           18106\n",
            "Overall Giving                   0\n",
            "Last 10 Years Giving             0\n",
            "Last 5 Years Giving_17-21        0\n",
            "CSS_ID                       39885\n",
            "Alumni                           0\n",
            "dtype: int64\n"
          ]
        }
      ]
    },
    {
      "cell_type": "markdown",
      "source": [
        "**Analysis**\n",
        "- The shape of our data is 42287 and by printing the nulls count in each column we get that there are some columns which have nearly or even very close count of nulls as same of our data shape.\n",
        "\n",
        "**Results**\n",
        "- Through this analysis i decided to drop those columns with very high nulls count."
      ],
      "metadata": {
        "id": "1yrJf-weuYPp"
      }
    },
    {
      "cell_type": "markdown",
      "source": [
        "- But to get the more robust idea of data and nulls i will also calculate the percentage of nulls which will help in delivering the same info with more preciseness and will help in faster decision making."
      ],
      "metadata": {
        "id": "zaN7YveBxdwg"
      }
    },
    {
      "cell_type": "code",
      "source": [
        "def missing_data_percentage(df):\n",
        "    total = df.isnull().sum().sort_values(ascending=False)\n",
        "    percent = (df.isnull().sum()/df.isnull().count()*100).sort_values(ascending=False)\n",
        "    missing_data = pd.concat([total, percent], axis=1, keys=['Total', 'Percent'])\n",
        "    return missing_data\n",
        "\n",
        "missing_data = missing_data_percentage(donation)\n",
        "print(\"Percentage of missing data:\")\n",
        "print(missing_data)"
      ],
      "metadata": {
        "colab": {
          "base_uri": "https://localhost:8080/"
        },
        "id": "PLV0JJJHxdRh",
        "outputId": "670309a8-114d-4f5e-cc1e-482d0a7ad8e3"
      },
      "execution_count": 31,
      "outputs": [
        {
          "output_type": "stream",
          "name": "stdout",
          "text": [
            "Percentage of missing data:\n",
            "                           Total    Percent\n",
            "CC_1_04_CodeLong           42280  99.983446\n",
            "Al Board Member            42259  99.933786\n",
            "CS_RecordImportID          42162  99.704401\n",
            "CC_1_03_CodeLong           42088  99.529406\n",
            "Married to an Alum         41713  98.642609\n",
            "CR_1_02_Degree             40373  95.473786\n",
            "CSS_ID                     39885  94.319767\n",
            "CC_1_02_CodeLong           37625  88.975335\n",
            "Title_1                    29027  68.642845\n",
            "Last Giving Date           27073  64.022040\n",
            "Largest Giving Date        27073  64.022040\n",
            "First Giving Date          27073  64.022040\n",
            "CR_1_01_Class_of           25089  59.330291\n",
            "Marital_status             24985  59.084352\n",
            "CR_1_01_Degree             22619  53.489252\n",
            "Personal Email End         18106  42.816941\n",
            "CC_1_01_CodeLong            4882  11.544919\n",
            "State                       1374   3.249226\n",
            "Zip                         1372   3.244496\n",
            "City                        1267   2.996193\n",
            "Overall Giving                 0   0.000000\n",
            "Last 10 Years Giving           0   0.000000\n",
            "Last 5 Years Giving_17-21      0   0.000000\n",
            "customer_ID                    0   0.000000\n",
            "Prf_Type                       0   0.000000\n",
            "events attended                0   0.000000\n",
            "Deceased                       0   0.000000\n",
            "Key Indicator                  0   0.000000\n",
            "Date_Changed                   0   0.000000\n",
            "date_added                     0   0.000000\n",
            "Alumni                         0   0.000000\n"
          ]
        }
      ]
    },
    {
      "cell_type": "code",
      "source": [
        "# Checking the content of the column for more robust decision making\n",
        "donation['CC_1_01_CodeLong'].unique()"
      ],
      "metadata": {
        "colab": {
          "base_uri": "https://localhost:8080/"
        },
        "id": "9ip73iPLz0Wn",
        "outputId": "7650b6ee-742b-451c-d067-2df747e52286"
      },
      "execution_count": 32,
      "outputs": [
        {
          "output_type": "execute_result",
          "data": {
            "text/plain": [
              "array(['Friend', 'Alumni', 'Current Fac/Staff', 'Education Certificate',\n",
              "       'Prospective Benefactor', 'Former Fac/Staff', 'Business', nan,\n",
              "       'Parent', 'Friends / Memorial', 'Unknown - Historical',\n",
              "       'Trust / Friend', 'Foundation', 'Student', 'Friends / Athletics',\n",
              "       'Friends / Agency', 'Trust / Alumni', 'Organization',\n",
              "       'Cutting Edge Alumni', 'Religious Org', 'Previous Board', 'Board',\n",
              "       'Class Year Alumni', 'Government',\n",
              "       'Board of Visitors Advisory Group', 'Trust / Business', 'WAICU',\n",
              "       'Dominican Colleges and Universities', 'Trust', 'Current Student'],\n",
              "      dtype=object)"
            ]
          },
          "metadata": {},
          "execution_count": 32
        }
      ]
    },
    {
      "cell_type": "markdown",
      "source": [
        "**Final Assessment for Nulls**\n",
        "- After seeing the percentage of nulls value i have decided to drop the columns with more than 30% of nulls."
      ],
      "metadata": {
        "id": "Ad9UuBy7y7h4"
      }
    },
    {
      "cell_type": "code",
      "source": [
        "donation['Zip'].unique()"
      ],
      "metadata": {
        "colab": {
          "base_uri": "https://localhost:8080/"
        },
        "id": "Jl9sCj4IM9W5",
        "outputId": "e7bd1192-5ba2-4f3e-f27b-2efa21d8188a"
      },
      "execution_count": 37,
      "outputs": [
        {
          "output_type": "execute_result",
          "data": {
            "text/plain": [
              "array([nan, '53717-1215', '55901-2590', ..., '80301-4203', '53597-1205',\n",
              "       10000], dtype=object)"
            ]
          },
          "metadata": {},
          "execution_count": 37
        }
      ]
    },
    {
      "cell_type": "code",
      "source": [
        "def preprocess_data(df):\n",
        "    # Convert date columns to datetime\n",
        "    date_cols = ['First Giving Date', 'Last Giving Date', 'Largest Giving Date', 'date_added', 'Date_Changed']\n",
        "    for col in date_cols:\n",
        "        if col in df.columns:\n",
        "            df[col] = pd.to_datetime(df[col], errors='coerce')\n",
        "\n",
        "    # Convert date columns to numeric (days since epoch)\n",
        "    for col in date_cols:\n",
        "        if col in df.columns:\n",
        "            df[col] = (df[col] - pd.Timestamp(\"1970-01-01\")) // pd.Timedelta('1D')\n",
        "\n",
        "    # Ensure Zip, City, and State are strings to avoid comparison issues\n",
        "    df['Zip'] = df['Zip'].astype(str)\n",
        "    df['State'] = df['State'].astype(str)\n",
        "    df['City'] = df['City'].astype(str)\n",
        "\n",
        "    # Fill missing Zips based on State and City combinations using transform() to preserve the index\n",
        "    df['Zip'] = df.groupby(['State', 'City'])['Zip'].transform(\n",
        "        lambda x: x.fillna(x.mode().iloc[0] if not x.mode().empty else np.nan)\n",
        "    )\n",
        "\n",
        "    # Fill missing City based on State and Zip combinations using transform()\n",
        "    df['City'] = df.groupby(['State', 'Zip'])['City'].transform(\n",
        "        lambda x: x.fillna(x.mode().iloc[0] if not x.mode().empty else np.nan)\n",
        "    )\n",
        "\n",
        "    # Fill missing State based on City and Zip combinations using transform()\n",
        "    df['State'] = df.groupby(['City', 'Zip'])['State'].transform(\n",
        "        lambda x: x.fillna(x.mode().iloc[0] if not x.mode().empty else np.nan)\n",
        "    )\n",
        "\n",
        "    # Handle remaining missing values for categorical and numeric columns\n",
        "    for col in df.columns:\n",
        "        if df[col].dtype == 'object':\n",
        "            df[col] = df[col].fillna(df[col].mode()[0] if not df[col].mode().empty else 'Unknown')\n",
        "        else:\n",
        "            df[col] = df[col].fillna(df[col].median())\n",
        "\n",
        "    return df\n",
        "\n",
        "# Preprocess the data\n",
        "processed_data = preprocess_data(donation)"
      ],
      "metadata": {
        "id": "1qJAOsXOuXpo"
      },
      "execution_count": 51,
      "outputs": []
    },
    {
      "cell_type": "code",
      "source": [
        "processed_data.shape"
      ],
      "metadata": {
        "colab": {
          "base_uri": "https://localhost:8080/"
        },
        "id": "AklMX9oGt_sV",
        "outputId": "51ee75d5-ac34-480a-b186-46b463f7c63c"
      },
      "execution_count": 52,
      "outputs": [
        {
          "output_type": "execute_result",
          "data": {
            "text/plain": [
              "(42287, 31)"
            ]
          },
          "metadata": {},
          "execution_count": 52
        }
      ]
    },
    {
      "cell_type": "code",
      "source": [
        "processed_donation = processed_data.drop(['CC_1_04_CodeLong', 'Al Board Member', 'CS_RecordImportID', 'CC_1_03_CodeLong', 'Married to an Alum',\n",
        "                                      'CR_1_02_Degree', 'CSS_ID' ,'CC_1_02_CodeLong', 'Title_1', 'Last Giving Date', 'Largest Giving Date', 'First Giving Date',\n",
        "                                      'CR_1_01_Class_of', 'Marital_status', 'CR_1_01_Degree', 'Personal Email End'], axis=1)"
      ],
      "metadata": {
        "id": "Bn8wa6AQFOXp"
      },
      "execution_count": 53,
      "outputs": []
    },
    {
      "cell_type": "code",
      "source": [
        "processed_donation.info()"
      ],
      "metadata": {
        "colab": {
          "base_uri": "https://localhost:8080/"
        },
        "id": "7wbNaqUR0evX",
        "outputId": "8553ae4b-22c6-4d02-bcb1-1eaa35d65bc2"
      },
      "execution_count": 54,
      "outputs": [
        {
          "output_type": "stream",
          "name": "stdout",
          "text": [
            "<class 'pandas.core.frame.DataFrame'>\n",
            "RangeIndex: 42287 entries, 0 to 42286\n",
            "Data columns (total 15 columns):\n",
            " #   Column                     Non-Null Count  Dtype  \n",
            "---  ------                     --------------  -----  \n",
            " 0   customer_ID                42287 non-null  int64  \n",
            " 1   date_added                 42287 non-null  int64  \n",
            " 2   Date_Changed               42287 non-null  int64  \n",
            " 3   Key Indicator              42287 non-null  object \n",
            " 4   Deceased                   42287 non-null  object \n",
            " 5   City                       42287 non-null  object \n",
            " 6   State                      42287 non-null  object \n",
            " 7   events attended            42287 non-null  int64  \n",
            " 8   Zip                        42287 non-null  object \n",
            " 9   Prf_Type                   42287 non-null  object \n",
            " 10  CC_1_01_CodeLong           42287 non-null  object \n",
            " 11  Overall Giving             42287 non-null  float64\n",
            " 12  Last 10 Years Giving       42287 non-null  float64\n",
            " 13  Last 5 Years Giving_17-21  42287 non-null  float64\n",
            " 14  Alumni                     42287 non-null  int64  \n",
            "dtypes: float64(3), int64(5), object(7)\n",
            "memory usage: 4.8+ MB\n"
          ]
        }
      ]
    },
    {
      "cell_type": "code",
      "source": [
        "numeric_cols = processed_data.select_dtypes(include=[np.number]).columns\n",
        "corr_matrix = processed_data[numeric_cols].corr()\n",
        "plt.figure(figsize=(12, 10))\n",
        "sns.heatmap(corr_matrix, annot=True, cmap='coolwarm')\n",
        "plt.title('Correlation Heatmap of Numeric Variables')\n",
        "# plt.savefig('correlation_heatmap.png')\n",
        "# plt.close()\n",
        "plt.plot();"
      ],
      "metadata": {
        "colab": {
          "base_uri": "https://localhost:8080/",
          "height": 1000
        },
        "id": "xNg14frEE9kx",
        "outputId": "3f0974d0-dbbf-48c5-94ee-8022b1fe6cc7"
      },
      "execution_count": 55,
      "outputs": [
        {
          "output_type": "display_data",
          "data": {
            "text/plain": [
              "<Figure size 1200x1000 with 2 Axes>"
            ],
            "image/png": "[encoded data removed]"
          },
          "metadata": {}
        }
      ]
    },
    {
      "cell_type": "markdown",
      "source": [
        "- From this correlation heatmap, we can see that our target column \"Overall Giving\" is highly correlated with Last 10 year and Last 5 years of giving."
      ],
      "metadata": {
        "id": "HsDqmqKvI4ID"
      }
    },
    {
      "cell_type": "code",
      "source": [
        "X = processed_donation.drop(['date_added','Date_Changed','Overall Giving'], axis=1)\n",
        "y = processed_donation['Overall Giving']"
      ],
      "metadata": {
        "id": "Y-NVOmKQFBU2"
      },
      "execution_count": 69,
      "outputs": []
    },
    {
      "cell_type": "code",
      "source": [
        "X.info()"
      ],
      "metadata": {
        "colab": {
          "base_uri": "https://localhost:8080/"
        },
        "id": "6CaQWZmfPwsL",
        "outputId": "c1a07019-133c-4d8b-aa5b-7ce7415b6a12"
      },
      "execution_count": 70,
      "outputs": [
        {
          "output_type": "stream",
          "name": "stdout",
          "text": [
            "<class 'pandas.core.frame.DataFrame'>\n",
            "RangeIndex: 42287 entries, 0 to 42286\n",
            "Data columns (total 12 columns):\n",
            " #   Column                     Non-Null Count  Dtype  \n",
            "---  ------                     --------------  -----  \n",
            " 0   customer_ID                42287 non-null  int64  \n",
            " 1   Key Indicator              42287 non-null  object \n",
            " 2   Deceased                   42287 non-null  object \n",
            " 3   City                       42287 non-null  object \n",
            " 4   State                      42287 non-null  object \n",
            " 5   events attended            42287 non-null  int64  \n",
            " 6   Zip                        42287 non-null  object \n",
            " 7   Prf_Type                   42287 non-null  object \n",
            " 8   CC_1_01_CodeLong           42287 non-null  object \n",
            " 9   Last 10 Years Giving       42287 non-null  float64\n",
            " 10  Last 5 Years Giving_17-21  42287 non-null  float64\n",
            " 11  Alumni                     42287 non-null  int64  \n",
            "dtypes: float64(2), int64(3), object(7)\n",
            "memory usage: 3.9+ MB\n"
          ]
        }
      ]
    },
    {
      "cell_type": "code",
      "source": [
        "# Define numeric and categorical columns\n",
        "numeric_features = X.select_dtypes(include=[np.number]).columns.tolist()\n",
        "categorical_features = X.select_dtypes(include=['object']).columns.tolist()"
      ],
      "metadata": {
        "id": "nSRzCsKrJJMs"
      },
      "execution_count": 71,
      "outputs": []
    },
    {
      "cell_type": "code",
      "source": [
        "# Create preprocessor\n",
        "preprocessor = ColumnTransformer(\n",
        "    transformers=[\n",
        "        ('num', StandardScaler(), numeric_features),\n",
        "        ('cat', OneHotEncoder(handle_unknown='ignore'), categorical_features),\n",
        "    ])"
      ],
      "metadata": {
        "id": "ZQxZwMkXJNEg"
      },
      "execution_count": 72,
      "outputs": []
    },
    {
      "cell_type": "code",
      "source": [
        "# Create pipeline\n",
        "model = Pipeline([\n",
        "    ('preprocessor', preprocessor),\n",
        "    ('regressor', RandomForestRegressor(n_estimators=100, random_state=42))\n",
        "])"
      ],
      "metadata": {
        "id": "N1PwLV16JQEl"
      },
      "execution_count": 73,
      "outputs": []
    },
    {
      "cell_type": "code",
      "source": [
        "# Split the data\n",
        "X_train, X_test, y_train, y_test = train_test_split(X, y, test_size=0.2, random_state=42)"
      ],
      "metadata": {
        "id": "6AkGSAG4JStX"
      },
      "execution_count": 74,
      "outputs": []
    },
    {
      "cell_type": "code",
      "source": [
        "# Fit the model\n",
        "model.fit(X_train, y_train)"
      ],
      "metadata": {
        "colab": {
          "base_uri": "https://localhost:8080/",
          "height": 189
        },
        "id": "G6yEEzzJJV8U",
        "outputId": "4a126457-df25-49cd-c249-a80167901601"
      },
      "execution_count": 75,
      "outputs": [
        {
          "output_type": "execute_result",
          "data": {
            "text/plain": [
              "Pipeline(steps=[('preprocessor',\n",
              "                 ColumnTransformer(transformers=[('num', StandardScaler(),\n",
              "                                                  ['customer_ID',\n",
              "                                                   'events attended',\n",
              "                                                   'Last 10 Years Giving',\n",
              "                                                   'Last 5 Years Giving_17-21',\n",
              "                                                   'Alumni']),\n",
              "                                                 ('cat',\n",
              "                                                  OneHotEncoder(handle_unknown='ignore'),\n",
              "                                                  ['Key Indicator', 'Deceased',\n",
              "                                                   'City', 'State', 'Zip',\n",
              "                                                   'Prf_Type',\n",
              "                                                   'CC_1_01_CodeLong'])])),\n",
              "                ('regressor', RandomForestRegressor(random_state=42))])"
            ],
            "text/html": [
              "<style>#sk-container-id-1 {color: black;}#sk-container-id-1 pre{padding: 0;}#sk-container-id-1 div.sk-toggleable {background-color: white;}#sk-container-id-1 label.sk-toggleable__label {cursor: pointer;display: block;width: 100%;margin-bottom: 0;padding: 0.3em;box-sizing: border-box;text-align: center;}#sk-container-id-1 label.sk-toggleable__label-arrow:before {content: \"▸\";float: left;margin-right: 0.25em;color: #696969;}#sk-container-id-1 label.sk-toggleable__label-arrow:hover:before {color: black;}#sk-container-id-1 div.sk-estimator:hover label.sk-toggleable__label-arrow:before {color: black;}#sk-container-id-1 div.sk-toggleable__content {max-height: 0;max-width: 0;overflow: hidden;text-align: left;background-color: #f0f8ff;}#sk-container-id-1 div.sk-toggleable__content pre {margin: 0.2em;color: black;border-radius: 0.25em;background-color: #f0f8ff;}#sk-container-id-1 input.sk-toggleable__control:checked~div.sk-toggleable__content {max-height: 200px;max-width: 100%;overflow: auto;}#sk-container-id-1 input.sk-toggleable__control:checked~label.sk-toggleable__label-arrow:before {content: \"▾\";}#sk-container-id-1 div.sk-estimator input.sk-toggleable__control:checked~label.sk-toggleable__label {background-color: #d4ebff;}#sk-container-id-1 div.sk-label input.sk-toggleable__control:checked~label.sk-toggleable__label {background-color: #d4ebff;}#sk-container-id-1 input.sk-hidden--visually {border: 0;clip: rect(1px 1px 1px 1px);clip: rect(1px, 1px, 1px, 1px);height: 1px;margin: -1px;overflow: hidden;padding: 0;position: absolute;width: 1px;}#sk-container-id-1 div.sk-estimator {font-family: monospace;background-color: #f0f8ff;border: 1px dotted black;border-radius: 0.25em;box-sizing: border-box;margin-bottom: 0.5em;}#sk-container-id-1 div.sk-estimator:hover {background-color: #d4ebff;}#sk-container-id-1 div.sk-parallel-item::after {content: \"\";width: 100%;border-bottom: 1px solid gray;flex-grow: 1;}#sk-container-id-1 div.sk-label:hover label.sk-toggleable__label {background-color: #d4ebff;}#sk-container-id-1 div.sk-serial::before {content: \"\";position: absolute;border-left: 1px solid gray;box-sizing: border-box;top: 0;bottom: 0;left: 50%;z-index: 0;}#sk-container-id-1 div.sk-serial {display: flex;flex-direction: column;align-items: center;background-color: white;padding-right: 0.2em;padding-left: 0.2em;position: relative;}#sk-container-id-1 div.sk-item {position: relative;z-index: 1;}#sk-container-id-1 div.sk-parallel {display: flex;align-items: stretch;justify-content: center;background-color: white;position: relative;}#sk-container-id-1 div.sk-item::before, #sk-container-id-1 div.sk-parallel-item::before {content: \"\";position: absolute;border-left: 1px solid gray;box-sizing: border-box;top: 0;bottom: 0;left: 50%;z-index: -1;}#sk-container-id-1 div.sk-parallel-item {display: flex;flex-direction: column;z-index: 1;position: relative;background-color: white;}#sk-container-id-1 div.sk-parallel-item:first-child::after {align-self: flex-end;width: 50%;}#sk-container-id-1 div.sk-parallel-item:last-child::after {align-self: flex-start;width: 50%;}#sk-container-id-1 div.sk-parallel-item:only-child::after {width: 0;}#sk-container-id-1 div.sk-dashed-wrapped {border: 1px dashed gray;margin: 0 0.4em 0.5em 0.4em;box-sizing: border-box;padding-bottom: 0.4em;background-color: white;}#sk-container-id-1 div.sk-label label {font-family: monospace;font-weight: bold;display: inline-block;line-height: 1.2em;}#sk-container-id-1 div.sk-label-container {text-align: center;}#sk-container-id-1 div.sk-container {/* jupyter's `normalize.less` sets `[hidden] { display: none; }` but bootstrap.min.css set `[hidden] { display: none !important; }` so we also need the `!important` here to be able to override the default hidden behavior on the sphinx rendered scikit-learn.org. See: https://github.com/scikit-learn/scikit-learn/issues/21755 */display: inline-block !important;position: relative;}#sk-container-id-1 div.sk-text-repr-fallback {display: none;}</style><div id=\"sk-container-id-1\" class=\"sk-top-container\"><div class=\"sk-text-repr-fallback\"><pre>Pipeline(steps=[(&#x27;preprocessor&#x27;,\n",
              "                 ColumnTransformer(transformers=[(&#x27;num&#x27;, StandardScaler(),\n",
              "                                                  [&#x27;customer_ID&#x27;,\n",
              "                                                   &#x27;events attended&#x27;,\n",
              "                                                   &#x27;Last 10 Years Giving&#x27;,\n",
              "                                                   &#x27;Last 5 Years Giving_17-21&#x27;,\n",
              "                                                   &#x27;Alumni&#x27;]),\n",
              "                                                 (&#x27;cat&#x27;,\n",
              "                                                  OneHotEncoder(handle_unknown=&#x27;ignore&#x27;),\n",
              "                                                  [&#x27;Key Indicator&#x27;, &#x27;Deceased&#x27;,\n",
              "                                                   &#x27;City&#x27;, &#x27;State&#x27;, &#x27;Zip&#x27;,\n",
              "                                                   &#x27;Prf_Type&#x27;,\n",
              "                                                   &#x27;CC_1_01_CodeLong&#x27;])])),\n",
              "                (&#x27;regressor&#x27;, RandomForestRegressor(random_state=42))])</pre><b>In a Jupyter environment, please rerun this cell to show the HTML representation or trust the notebook. <br />On GitHub, the HTML representation is unable to render, please try loading this page with nbviewer.org.</b></div><div class=\"sk-container\" hidden><div class=\"sk-item sk-dashed-wrapped\"><div class=\"sk-label-container\"><div class=\"sk-label sk-toggleable\"><input class=\"sk-toggleable__control sk-hidden--visually\" id=\"sk-estimator-id-1\" type=\"checkbox\" ><label for=\"sk-estimator-id-1\" class=\"sk-toggleable__label sk-toggleable__label-arrow\">Pipeline</label><div class=\"sk-toggleable__content\"><pre>Pipeline(steps=[(&#x27;preprocessor&#x27;,\n",
              "                 ColumnTransformer(transformers=[(&#x27;num&#x27;, StandardScaler(),\n",
              "                                                  [&#x27;customer_ID&#x27;,\n",
              "                                                   &#x27;events attended&#x27;,\n",
              "                                                   &#x27;Last 10 Years Giving&#x27;,\n",
              "                                                   &#x27;Last 5 Years Giving_17-21&#x27;,\n",
              "                                                   &#x27;Alumni&#x27;]),\n",
              "                                                 (&#x27;cat&#x27;,\n",
              "                                                  OneHotEncoder(handle_unknown=&#x27;ignore&#x27;),\n",
              "                                                  [&#x27;Key Indicator&#x27;, &#x27;Deceased&#x27;,\n",
              "                                                   &#x27;City&#x27;, &#x27;State&#x27;, &#x27;Zip&#x27;,\n",
              "                                                   &#x27;Prf_Type&#x27;,\n",
              "                                                   &#x27;CC_1_01_CodeLong&#x27;])])),\n",
              "                (&#x27;regressor&#x27;, RandomForestRegressor(random_state=42))])</pre></div></div></div><div class=\"sk-serial\"><div class=\"sk-item sk-dashed-wrapped\"><div class=\"sk-label-container\"><div class=\"sk-label sk-toggleable\"><input class=\"sk-toggleable__control sk-hidden--visually\" id=\"sk-estimator-id-2\" type=\"checkbox\" ><label for=\"sk-estimator-id-2\" class=\"sk-toggleable__label sk-toggleable__label-arrow\">preprocessor: ColumnTransformer</label><div class=\"sk-toggleable__content\"><pre>ColumnTransformer(transformers=[(&#x27;num&#x27;, StandardScaler(),\n",
              "                                 [&#x27;customer_ID&#x27;, &#x27;events attended&#x27;,\n",
              "                                  &#x27;Last 10 Years Giving&#x27;,\n",
              "                                  &#x27;Last 5 Years Giving_17-21&#x27;, &#x27;Alumni&#x27;]),\n",
              "                                (&#x27;cat&#x27;, OneHotEncoder(handle_unknown=&#x27;ignore&#x27;),\n",
              "                                 [&#x27;Key Indicator&#x27;, &#x27;Deceased&#x27;, &#x27;City&#x27;, &#x27;State&#x27;,\n",
              "                                  &#x27;Zip&#x27;, &#x27;Prf_Type&#x27;, &#x27;CC_1_01_CodeLong&#x27;])])</pre></div></div></div><div class=\"sk-parallel\"><div class=\"sk-parallel-item\"><div class=\"sk-item\"><div class=\"sk-label-container\"><div class=\"sk-label sk-toggleable\"><input class=\"sk-toggleable__control sk-hidden--visually\" id=\"sk-estimator-id-3\" type=\"checkbox\" ><label for=\"sk-estimator-id-3\" class=\"sk-toggleable__label sk-toggleable__label-arrow\">num</label><div class=\"sk-toggleable__content\"><pre>[&#x27;customer_ID&#x27;, &#x27;events attended&#x27;, &#x27;Last 10 Years Giving&#x27;, &#x27;Last 5 Years Giving_17-21&#x27;, &#x27;Alumni&#x27;]</pre></div></div></div><div class=\"sk-serial\"><div class=\"sk-item\"><div class=\"sk-estimator sk-toggleable\"><input class=\"sk-toggleable__control sk-hidden--visually\" id=\"sk-estimator-id-4\" type=\"checkbox\" ><label for=\"sk-estimator-id-4\" class=\"sk-toggleable__label sk-toggleable__label-arrow\">StandardScaler</label><div class=\"sk-toggleable__content\"><pre>StandardScaler()</pre></div></div></div></div></div></div><div class=\"sk-parallel-item\"><div class=\"sk-item\"><div class=\"sk-label-container\"><div class=\"sk-label sk-toggleable\"><input class=\"sk-toggleable__control sk-hidden--visually\" id=\"sk-estimator-id-5\" type=\"checkbox\" ><label for=\"sk-estimator-id-5\" class=\"sk-toggleable__label sk-toggleable__label-arrow\">cat</label><div class=\"sk-toggleable__content\"><pre>[&#x27;Key Indicator&#x27;, &#x27;Deceased&#x27;, &#x27;City&#x27;, &#x27;State&#x27;, &#x27;Zip&#x27;, &#x27;Prf_Type&#x27;, &#x27;CC_1_01_CodeLong&#x27;]</pre></div></div></div><div class=\"sk-serial\"><div class=\"sk-item\"><div class=\"sk-estimator sk-toggleable\"><input class=\"sk-toggleable__control sk-hidden--visually\" id=\"sk-estimator-id-6\" type=\"checkbox\" ><label for=\"sk-estimator-id-6\" class=\"sk-toggleable__label sk-toggleable__label-arrow\">OneHotEncoder</label><div class=\"sk-toggleable__content\"><pre>OneHotEncoder(handle_unknown=&#x27;ignore&#x27;)</pre></div></div></div></div></div></div></div></div><div class=\"sk-item\"><div class=\"sk-estimator sk-toggleable\"><input class=\"sk-toggleable__control sk-hidden--visually\" id=\"sk-estimator-id-7\" type=\"checkbox\" ><label for=\"sk-estimator-id-7\" class=\"sk-toggleable__label sk-toggleable__label-arrow\">RandomForestRegressor</label><div class=\"sk-toggleable__content\"><pre>RandomForestRegressor(random_state=42)</pre></div></div></div></div></div></div></div>"
            ]
          },
          "metadata": {},
          "execution_count": 75
        }
      ]
    },
    {
      "cell_type": "code",
      "source": [
        "y_pred = model.predict(X_test)"
      ],
      "metadata": {
        "id": "axphPOajJYdj"
      },
      "execution_count": 76,
      "outputs": []
    },
    {
      "cell_type": "code",
      "source": [
        "mse = mean_squared_error(y_test, y_pred)\n",
        "r2 = r2_score(y_test, y_pred)\n",
        "\n",
        "print(f\"\\nModel Performance:\")\n",
        "print(f\"Mean Squared Error: {mse}\")\n",
        "print(f\"R-squared Score: {r2}\")"
      ],
      "metadata": {
        "colab": {
          "base_uri": "https://localhost:8080/"
        },
        "id": "pHj9LSRtQBep",
        "outputId": "b0161d05-c2c0-4be8-b794-8e8e6904006b"
      },
      "execution_count": 77,
      "outputs": [
        {
          "output_type": "stream",
          "name": "stdout",
          "text": [
            "\n",
            "Model Performance:\n",
            "Mean Squared Error: 8980090359.631956\n",
            "R-squared Score: 0.07815105029252178\n"
          ]
        }
      ]
    },
    {
      "cell_type": "code",
      "source": [
        "def predict_donation_prospects(data, threshold):\n",
        "    predictions = model.predict(data)\n",
        "    prospects = data[predictions > threshold]\n",
        "    return prospects\n",
        "\n",
        "high_value_prospects = predict_donation_prospects(X_test, threshold=1000)\n",
        "print(high_value_prospects)"
      ],
      "metadata": {
        "colab": {
          "base_uri": "https://localhost:8080/"
        },
        "id": "C9PQQ15RQVdU",
        "outputId": "0e0ac17d-83a4-4754-f836-6a64a84d1232"
      },
      "execution_count": 79,
      "outputs": [
        {
          "output_type": "stream",
          "name": "stdout",
          "text": [
            "       customer_ID Key Indicator Deceased              City State  \\\n",
            "25021       237905             O       No         Worcester    MA   \n",
            "24728       234091             I       No          Petoskey    MI   \n",
            "30224       290500             O       No           Madison    WI   \n",
            "12558        11710             I       No           Madison    WI   \n",
            "41225       315767             O       No           Madison    WI   \n",
            "...            ...           ...      ...               ...   ...   \n",
            "30199       290283             I       No         Elm Grove    WI   \n",
            "7602        437361             O       No           Madison    WI   \n",
            "35250       352747             I       No  Prospect Heights    IL   \n",
            "5821     100005984             I       No   Richland Center    WI   \n",
            "13371        12862             I       No           Madison    WI   \n",
            "\n",
            "       events attended         Zip              Prf_Type    CC_1_01_CodeLong  \\\n",
            "25021                0  01608-1724  Legal Home Permanent      Trust / Friend   \n",
            "24728                0  49770-9109                  Home              Friend   \n",
            "30224                0  53711-1997  Legal Home Permanent        Organization   \n",
            "12558                0  53714-2513  Legal Home Permanent              Alumni   \n",
            "41225                0  53717-2919                  Home            Business   \n",
            "...                ...         ...                   ...                 ...   \n",
            "30199                0  53122-1301  Legal Home Permanent              Alumni   \n",
            "7602                 0  53703-2760  Legal Home Permanent        Organization   \n",
            "35250                0  60070-2579  Legal Home Permanent  Friends / Memorial   \n",
            "5821                 0  53581-2303  Legal Home Permanent              Alumni   \n",
            "13371                0  53711-3408  Legal Home Permanent              Friend   \n",
            "\n",
            "       Last 10 Years Giving  Last 5 Years Giving_17-21  Alumni  \n",
            "25021                   0.0                        0.0       0  \n",
            "24728                   0.0                        0.0       0  \n",
            "30224                   0.0                        0.0       0  \n",
            "12558                 650.0                      250.0       1  \n",
            "41225                1000.0                        0.0       0  \n",
            "...                     ...                        ...     ...  \n",
            "30199                1850.0                        0.0       1  \n",
            "7602                    0.0                        0.0       0  \n",
            "35250                7250.0                     5000.0       0  \n",
            "5821                  475.0                      150.0       1  \n",
            "13371                2150.0                     2050.0       0  \n",
            "\n",
            "[340 rows x 12 columns]\n"
          ]
        }
      ]
    },
    {
      "cell_type": "code",
      "source": [
        "import pickle\n",
        "\n",
        "# Save the model to a file\n",
        "with open('rf_model.pkl', 'wb') as file:\n",
        "    pickle.dump(model, file)"
      ],
      "metadata": {
        "id": "-hbmNuqaZhSw"
      },
      "execution_count": null,
      "outputs": []
    }
  ]
}